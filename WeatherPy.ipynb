Homework has been moved to :
https://github.com/faragshawky86/WeatherPy
